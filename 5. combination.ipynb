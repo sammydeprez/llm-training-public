{
 "cells": [
  {
   "cell_type": "markdown",
   "metadata": {},
   "source": [
    "# Combination"
   ]
  },
  {
   "cell_type": "code",
   "execution_count": 16,
   "metadata": {},
   "outputs": [],
   "source": [
    "from azure.ai.documentintelligence import DocumentIntelligenceClient\n",
    "from azure.ai.documentintelligence.models import AnalyzeResult\n",
    "from azure.ai.documentintelligence.models import AnalyzeDocumentRequest\n",
    "import os\n",
    "from azure.core.credentials import AzureKeyCredential\n",
    "from typing import List\n",
    "import pandas as pd\n",
    "from openai import AzureOpenAI\n",
    "import numpy as np"
   ]
  },
  {
   "cell_type": "markdown",
   "metadata": {},
   "source": [
    "## Get data from document"
   ]
  },
  {
   "cell_type": "code",
   "execution_count": 2,
   "metadata": {},
   "outputs": [],
   "source": [
    "endpoint = os.environ.get(\"DOCUMENT_INTELLIGENCE_ENDPOINT\")\n",
    "credential = AzureKeyCredential(os.environ.get(\"DOCUMENT_INTELLIGENCE_KEY\"))\n",
    "\n",
    "client: DocumentIntelligenceClient = DocumentIntelligenceClient(endpoint, credential)\n",
    "\n",
    "url = \"https://d34ji3l0qn3w2t.cloudfront.net/0d690f62-d221-403d-8128-1e786f897615/1/lffi_E.pdf\"\n",
    "\n",
    "document = AnalyzeDocumentRequest(url_source=url)\n",
    "\n",
    "result: AnalyzeResult = client.begin_analyze_document(\n",
    "    \"prebuilt-layout\",\n",
    "    analyze_request=document,\n",
    "    output_content_format=\"markdown\"\n",
    ").result()"
   ]
  },
  {
   "cell_type": "markdown",
   "metadata": {},
   "source": [
    "## Split in chunks"
   ]
  },
  {
   "cell_type": "code",
   "execution_count": 3,
   "metadata": {},
   "outputs": [],
   "source": [
    "def chunk_document(text) -> List[str]:\n",
    "    from langchain_text_splitters import MarkdownTextSplitter\n",
    "    splitter = MarkdownTextSplitter.from_tiktoken_encoder(\n",
    "                encoding_name=\"o200k_base\", \n",
    "                chunk_size=500, \n",
    "                chunk_overlap=100\n",
    "            )\n",
    "    return splitter.split_text(text)"
   ]
  },
  {
   "cell_type": "code",
   "execution_count": 7,
   "metadata": {},
   "outputs": [],
   "source": [
    "chunks = chunk_document(result.content)\n",
    "data = pd.DataFrame(chunks, columns=[\"content\"])"
   ]
  },
  {
   "cell_type": "markdown",
   "metadata": {},
   "source": [
    "## Embed"
   ]
  },
  {
   "cell_type": "code",
   "execution_count": 12,
   "metadata": {},
   "outputs": [],
   "source": [
    "openai_client: AzureOpenAI = AzureOpenAI(\n",
    "    api_version = \"2024-06-01\",\n",
    "    max_retries=5\n",
    ")"
   ]
  },
  {
   "cell_type": "code",
   "execution_count": 13,
   "metadata": {},
   "outputs": [],
   "source": [
    "def get_embedding(text):\n",
    "    response = openai_client.embeddings.create(input=text, model=\"text-embedding-ada-002\")\n",
    "    return response.data[0].embedding"
   ]
  },
  {
   "cell_type": "code",
   "execution_count": 14,
   "metadata": {},
   "outputs": [],
   "source": [
    "data[\"embedding\"] = data[\"content\"].apply(lambda x: get_embedding(x))"
   ]
  },
  {
   "cell_type": "markdown",
   "metadata": {},
   "source": [
    "## Search"
   ]
  },
  {
   "cell_type": "code",
   "execution_count": 19,
   "metadata": {},
   "outputs": [],
   "source": [
    "def cosine_similarity(a, b):\n",
    "    return np.dot(a, b) / (np.linalg.norm(a) * np.linalg.norm(b))"
   ]
  },
  {
   "cell_type": "code",
   "execution_count": 31,
   "metadata": {},
   "outputs": [],
   "source": [
    "def search(df, question, n=1):\n",
    "    #Convert the question in an embedding\n",
    "    q_embedding = get_embedding(question)\n",
    "\n",
    "    #Calculate the similarity between the question and the embeddings in the dataframe\n",
    "    df[\"similarity\"] = df[\"embedding\"].apply(lambda x: cosine_similarity(x, q_embedding))\n",
    "\n",
    "    #Return the top n most similar rows\n",
    "    res = df.sort_values(\"similarity\", ascending=False).head(n).reset_index(drop=True)\n",
    "    return res"
   ]
  },
  {
   "cell_type": "markdown",
   "metadata": {},
   "source": [
    "## Generate an answer"
   ]
  },
  {
   "cell_type": "code",
   "execution_count": 44,
   "metadata": {},
   "outputs": [
    {
     "name": "stdout",
     "output_type": "stream",
     "text": [
      "The Ethiopian man needed help to understand the Scriptures. Many people today find it helpful to discuss the Bible with others\n",
      "\n",
      "SOME PEOPLE SAY: \"Studying the Bible is a waste of time.\"\n",
      "\n",
      "· What would you say? Why?\n",
      "\n",
      "<!-- PageNumber=\"5\" -->\n",
      "\n",
      "## SUMMARY\n",
      "\n",
      "The Bible offers advice for daily life, answers important questions, and gives people comfort and hope.\n",
      "\n",
      "\n",
      "## Review\n",
      "\n",
      "· What kind of advice can we find in the Bible?\n",
      "\n",
      "· What are some questions that the Bible answers?\n",
      "\n",
      "· What would you like to learn from the Bible?\n",
      "\n",
      "Lesson completed on\n",
      "\n",
      "\n",
      "## Goal\n",
      " :unselected:\n",
      "Read the first part of the next lesson.\n",
      " :unselected:\n",
      "Other:\n",
      "\n",
      "\n",
      "## EXPLORE\n",
      "\n",
      "<figure>\n",
      "\n",
      "![](figures/6)\n",
      "\n",
      "</figure>\n",
      "\n",
      "\n",
      "Consider how the Bible's advice is practical today.\n",
      "\n",
      "\"Bible Teachings -Timeless Wisdom\" (The Watchtower No. 1 2018)\n",
      "\n",
      "<figure>\n",
      "\n",
      "![](figures/7)\n",
      "\n",
      "<!-- FigureContent=\"2:53\" -->\n",
      "\n",
      "</figure>\n",
      "\n",
      "\n",
      "See how the Bible helped a man who had struggled with his emotions since childhood.\n",
      "\n",
      "How My Happy New Life Began\n",
      "\n",
      "<figure>\n",
      "\n",
      "![](figures/8)\n",
      "\n",
      "</figure>\n",
      "\n",
      "\n",
      "Examine the Bible's practical advice for family life. \"12 Secrets of Successful Families\" (Awake! No. 2 2018)\n",
      "\n",
      "<figure>\n",
      "\n",
      "![](figures/9)\n",
      "\n",
      "<!-- FigureContent=\"3:14\" -->\n",
      "\n",
      "</figure>\n",
      "\n",
      "\n",
      "Learn how the Bible clears up a common misconcep- tion about who really rules the world.\n",
      "\n",
      "Why Study the Bible? -Full Length\n",
      "\n",
      "<!-- PageFooter=\"To find all media for LESSON 01, scan code or go to the publication Enjoy Life Forever! on jw.org\" -->\n",
      "<figure>\n",
      "\n",
      "![](figures/10)\n",
      "\n",
      "<!-- FigureContent=\"02\" -->\n",
      "\n",
      "</figure>\n",
      "\n",
      "\n",
      "The Bible Gives Hope\n",
      "===\n",
      "\n",
      "People around the world deal with problems that cause them to feel sad- ness, anxiety, and even pain. Have you ever faced a situation that made you feel those things? Perhaps you are suffering because of an illness or because someone you love has died. You may ask yourself, 'Will life ever get better?' The Bible provides a reassuring answer to that question.\n",
      "\n",
      "\n",
      "## 1\\. How does the Bible give hope?\n"
     ]
    }
   ],
   "source": [
    "question = \"What are some questions that the Bible answers?\"\n",
    "search_results = search(data, question).iloc[0][\"content\"]\n",
    "print(search_results)"
   ]
  },
  {
   "cell_type": "code",
   "execution_count": 45,
   "metadata": {},
   "outputs": [
    {
     "data": {
      "text/plain": [
       "ChatCompletion(id='chatcmpl-A4A72YgQazOjGcsnI3GWXzF0mnIcM', choices=[Choice(finish_reason='stop', index=0, logprobs=None, message=ChatCompletionMessage(content='I have no information on that topic.', refusal=None, role='assistant', function_call=None, tool_calls=None), content_filter_results={'hate': {'filtered': False, 'severity': 'safe'}, 'protected_material_code': {'filtered': False, 'detected': False}, 'protected_material_text': {'filtered': False, 'detected': False}, 'self_harm': {'filtered': False, 'severity': 'safe'}, 'sexual': {'filtered': False, 'severity': 'safe'}, 'violence': {'filtered': False, 'severity': 'safe'}})], created=1725555548, model='gpt-4o-mini', object='chat.completion', service_tier=None, system_fingerprint='fp_80a1bad4c7', usage=CompletionUsage(completion_tokens=8, prompt_tokens=524, total_tokens=532), prompt_filter_results=[{'prompt_index': 0, 'content_filter_results': {'hate': {'filtered': False, 'severity': 'safe'}, 'jailbreak': {'filtered': False, 'detected': False}, 'self_harm': {'filtered': False, 'severity': 'safe'}, 'sexual': {'filtered': False, 'severity': 'safe'}, 'violence': {'filtered': False, 'severity': 'safe'}}}])"
      ]
     },
     "execution_count": 45,
     "metadata": {},
     "output_type": "execute_result"
    }
   ],
   "source": [
    "completion = openai_client.chat.completions.create(\n",
    "    model=\"gpt-4o-mini\",\n",
    "    messages=[\n",
    "        {\n",
    "            \"role\":\"system\",\n",
    "            \"content\": f\"\"\"You are a friendly AI assistant returning answers based only on the given context.\n",
    "            If the context does not provide an answer, tell the user you have no information on the topic.\n",
    "            CONTEXT:\n",
    "            {search_results}\n",
    "            \"\"\"\n",
    "        },\n",
    "        {\n",
    "            \"role\":\"user\",\n",
    "            \"content\": question\n",
    "        }\n",
    "    ]\n",
    ")\n",
    "completion"
   ]
  },
  {
   "cell_type": "code",
   "execution_count": 46,
   "metadata": {},
   "outputs": [
    {
     "name": "stdout",
     "output_type": "stream",
     "text": [
      "I have no information on that topic.\n"
     ]
    }
   ],
   "source": [
    "print(completion.choices[0].message.content)"
   ]
  },
  {
   "cell_type": "code",
   "execution_count": null,
   "metadata": {},
   "outputs": [],
   "source": []
  }
 ],
 "metadata": {
  "kernelspec": {
   "display_name": "Python 3",
   "language": "python",
   "name": "python3"
  },
  "language_info": {
   "codemirror_mode": {
    "name": "ipython",
    "version": 3
   },
   "file_extension": ".py",
   "mimetype": "text/x-python",
   "name": "python",
   "nbconvert_exporter": "python",
   "pygments_lexer": "ipython3",
   "version": "3.12.1"
  }
 },
 "nbformat": 4,
 "nbformat_minor": 2
}
