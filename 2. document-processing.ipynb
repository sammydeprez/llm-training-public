{
 "cells": [
  {
   "cell_type": "code",
   "execution_count": 14,
   "metadata": {},
   "outputs": [
    {
     "name": "stdout",
     "output_type": "stream",
     "text": [
      "Requirement already satisfied: azure-ai-documentintelligence in /usr/local/python/3.12.1/lib/python3.12/site-packages (1.0.0b3)\n",
      "Requirement already satisfied: isodate>=0.6.1 in /usr/local/python/3.12.1/lib/python3.12/site-packages (from azure-ai-documentintelligence) (0.6.1)\n",
      "Requirement already satisfied: azure-core>=1.30.0 in /usr/local/python/3.12.1/lib/python3.12/site-packages (from azure-ai-documentintelligence) (1.30.2)\n",
      "Requirement already satisfied: typing-extensions>=4.6.0 in /usr/local/python/3.12.1/lib/python3.12/site-packages (from azure-ai-documentintelligence) (4.12.2)\n",
      "Requirement already satisfied: requests>=2.21.0 in /home/codespace/.local/lib/python3.12/site-packages (from azure-core>=1.30.0->azure-ai-documentintelligence) (2.32.3)\n",
      "Requirement already satisfied: six>=1.11.0 in /home/codespace/.local/lib/python3.12/site-packages (from azure-core>=1.30.0->azure-ai-documentintelligence) (1.16.0)\n",
      "Requirement already satisfied: charset-normalizer<4,>=2 in /home/codespace/.local/lib/python3.12/site-packages (from requests>=2.21.0->azure-core>=1.30.0->azure-ai-documentintelligence) (3.3.2)\n",
      "Requirement already satisfied: idna<4,>=2.5 in /home/codespace/.local/lib/python3.12/site-packages (from requests>=2.21.0->azure-core>=1.30.0->azure-ai-documentintelligence) (3.7)\n",
      "Requirement already satisfied: urllib3<3,>=1.21.1 in /home/codespace/.local/lib/python3.12/site-packages (from requests>=2.21.0->azure-core>=1.30.0->azure-ai-documentintelligence) (2.2.2)\n",
      "Requirement already satisfied: certifi>=2017.4.17 in /home/codespace/.local/lib/python3.12/site-packages (from requests>=2.21.0->azure-core>=1.30.0->azure-ai-documentintelligence) (2024.7.4)\n",
      "Note: you may need to restart the kernel to use updated packages.\n",
      "Requirement already satisfied: langchain-text-splitters in /usr/local/python/3.12.1/lib/python3.12/site-packages (0.2.4)\n",
      "Requirement already satisfied: langchain-core<0.3.0,>=0.2.38 in /usr/local/python/3.12.1/lib/python3.12/site-packages (from langchain-text-splitters) (0.2.38)\n",
      "Requirement already satisfied: PyYAML>=5.3 in /home/codespace/.local/lib/python3.12/site-packages (from langchain-core<0.3.0,>=0.2.38->langchain-text-splitters) (6.0.2)\n",
      "Requirement already satisfied: jsonpatch<2.0,>=1.33 in /usr/local/python/3.12.1/lib/python3.12/site-packages (from langchain-core<0.3.0,>=0.2.38->langchain-text-splitters) (1.33)\n",
      "Requirement already satisfied: langsmith<0.2.0,>=0.1.75 in /usr/local/python/3.12.1/lib/python3.12/site-packages (from langchain-core<0.3.0,>=0.2.38->langchain-text-splitters) (0.1.114)\n",
      "Requirement already satisfied: packaging<25,>=23.2 in /home/codespace/.local/lib/python3.12/site-packages (from langchain-core<0.3.0,>=0.2.38->langchain-text-splitters) (24.1)\n",
      "Requirement already satisfied: pydantic<3,>=1 in /usr/local/python/3.12.1/lib/python3.12/site-packages (from langchain-core<0.3.0,>=0.2.38->langchain-text-splitters) (2.8.2)\n",
      "Requirement already satisfied: tenacity!=8.4.0,<9.0.0,>=8.1.0 in /usr/local/python/3.12.1/lib/python3.12/site-packages (from langchain-core<0.3.0,>=0.2.38->langchain-text-splitters) (8.5.0)\n",
      "Requirement already satisfied: typing-extensions>=4.7 in /usr/local/python/3.12.1/lib/python3.12/site-packages (from langchain-core<0.3.0,>=0.2.38->langchain-text-splitters) (4.12.2)\n",
      "Requirement already satisfied: jsonpointer>=1.9 in /home/codespace/.local/lib/python3.12/site-packages (from jsonpatch<2.0,>=1.33->langchain-core<0.3.0,>=0.2.38->langchain-text-splitters) (3.0.0)\n",
      "Requirement already satisfied: httpx<1,>=0.23.0 in /home/codespace/.local/lib/python3.12/site-packages (from langsmith<0.2.0,>=0.1.75->langchain-core<0.3.0,>=0.2.38->langchain-text-splitters) (0.27.0)\n",
      "Requirement already satisfied: orjson<4.0.0,>=3.9.14 in /usr/local/python/3.12.1/lib/python3.12/site-packages (from langsmith<0.2.0,>=0.1.75->langchain-core<0.3.0,>=0.2.38->langchain-text-splitters) (3.10.7)\n",
      "Requirement already satisfied: requests<3,>=2 in /home/codespace/.local/lib/python3.12/site-packages (from langsmith<0.2.0,>=0.1.75->langchain-core<0.3.0,>=0.2.38->langchain-text-splitters) (2.32.3)\n",
      "Requirement already satisfied: annotated-types>=0.4.0 in /usr/local/python/3.12.1/lib/python3.12/site-packages (from pydantic<3,>=1->langchain-core<0.3.0,>=0.2.38->langchain-text-splitters) (0.7.0)\n",
      "Requirement already satisfied: pydantic-core==2.20.1 in /usr/local/python/3.12.1/lib/python3.12/site-packages (from pydantic<3,>=1->langchain-core<0.3.0,>=0.2.38->langchain-text-splitters) (2.20.1)\n",
      "Requirement already satisfied: anyio in /home/codespace/.local/lib/python3.12/site-packages (from httpx<1,>=0.23.0->langsmith<0.2.0,>=0.1.75->langchain-core<0.3.0,>=0.2.38->langchain-text-splitters) (4.4.0)\n",
      "Requirement already satisfied: certifi in /home/codespace/.local/lib/python3.12/site-packages (from httpx<1,>=0.23.0->langsmith<0.2.0,>=0.1.75->langchain-core<0.3.0,>=0.2.38->langchain-text-splitters) (2024.7.4)\n",
      "Requirement already satisfied: httpcore==1.* in /home/codespace/.local/lib/python3.12/site-packages (from httpx<1,>=0.23.0->langsmith<0.2.0,>=0.1.75->langchain-core<0.3.0,>=0.2.38->langchain-text-splitters) (1.0.5)\n",
      "Requirement already satisfied: idna in /home/codespace/.local/lib/python3.12/site-packages (from httpx<1,>=0.23.0->langsmith<0.2.0,>=0.1.75->langchain-core<0.3.0,>=0.2.38->langchain-text-splitters) (3.7)\n",
      "Requirement already satisfied: sniffio in /home/codespace/.local/lib/python3.12/site-packages (from httpx<1,>=0.23.0->langsmith<0.2.0,>=0.1.75->langchain-core<0.3.0,>=0.2.38->langchain-text-splitters) (1.3.1)\n",
      "Requirement already satisfied: h11<0.15,>=0.13 in /home/codespace/.local/lib/python3.12/site-packages (from httpcore==1.*->httpx<1,>=0.23.0->langsmith<0.2.0,>=0.1.75->langchain-core<0.3.0,>=0.2.38->langchain-text-splitters) (0.14.0)\n",
      "Requirement already satisfied: charset-normalizer<4,>=2 in /home/codespace/.local/lib/python3.12/site-packages (from requests<3,>=2->langsmith<0.2.0,>=0.1.75->langchain-core<0.3.0,>=0.2.38->langchain-text-splitters) (3.3.2)\n",
      "Requirement already satisfied: urllib3<3,>=1.21.1 in /home/codespace/.local/lib/python3.12/site-packages (from requests<3,>=2->langsmith<0.2.0,>=0.1.75->langchain-core<0.3.0,>=0.2.38->langchain-text-splitters) (2.2.2)\n",
      "Note: you may need to restart the kernel to use updated packages.\n"
     ]
    }
   ],
   "source": [
    "%pip install azure-ai-documentintelligence\n",
    "%pip install langchain-text-splitters"
   ]
  },
  {
   "cell_type": "code",
   "execution_count": 2,
   "metadata": {},
   "outputs": [],
   "source": [
    "from azure.ai.documentintelligence import DocumentIntelligenceClient\n",
    "from azure.ai.documentintelligence.models import AnalyzeResult\n",
    "from azure.ai.documentintelligence.models import AnalyzeDocumentRequest"
   ]
  },
  {
   "cell_type": "code",
   "execution_count": 3,
   "metadata": {},
   "outputs": [],
   "source": [
    "import os\n",
    "from azure.core.credentials import AzureKeyCredential\n",
    "\n",
    "endpoint = os.environ.get(\"DOCUMENT_INTELLIGENCE_ENDPOINT\")\n",
    "credential = AzureKeyCredential(os.environ.get(\"DOCUMENT_INTELLIGENCE_KEY\"))\n",
    "\n",
    "client: DocumentIntelligenceClient = DocumentIntelligenceClient(endpoint, credential)"
   ]
  },
  {
   "cell_type": "code",
   "execution_count": 12,
   "metadata": {},
   "outputs": [],
   "source": [
    "url = \"https://download-a.akamaihd.net/files/media_publication/4c/lff_E.pdf\"\n",
    "\n",
    "document = AnalyzeDocumentRequest(url_source=url)\n",
    "\n",
    "result: AnalyzeResult = client.begin_analyze_document(\n",
    "    \"prebuilt-layout\",\n",
    "    analyze_request=document,\n",
    "    output_content_format=\"markdown\"\n",
    ").result()"
   ]
  },
  {
   "cell_type": "code",
   "execution_count": 16,
   "metadata": {},
   "outputs": [],
   "source": [
    "result"
   ]
  },
  {
   "cell_type": "code",
   "execution_count": null,
   "metadata": {},
   "outputs": [],
   "source": [
    "def chunk_document(row) -> List[str]:\n",
    "    from langchain_text_splitters import MarkdownTextSplitter\n",
    "    splitter = MarkdownTextSplitter.from_tiktoken_encoder(\n",
    "                encoding_name=\"o200k_base\", \n",
    "                chunk_size=500, \n",
    "                chunk_overlap=100\n",
    "            )\n",
    "    return splitter.split_text(row[\"content_cleaned\"])"
   ]
  }
 ],
 "metadata": {
  "kernelspec": {
   "display_name": "Python 3",
   "language": "python",
   "name": "python3"
  },
  "language_info": {
   "codemirror_mode": {
    "name": "ipython",
    "version": 3
   },
   "file_extension": ".py",
   "mimetype": "text/x-python",
   "name": "python",
   "nbconvert_exporter": "python",
   "pygments_lexer": "ipython3",
   "version": "3.12.1"
  }
 },
 "nbformat": 4,
 "nbformat_minor": 2
}
