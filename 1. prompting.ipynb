{
 "cells": [
  {
   "cell_type": "markdown",
   "metadata": {},
   "source": [
    "# Prompting"
   ]
  },
  {
   "cell_type": "code",
   "execution_count": 8,
   "metadata": {},
   "outputs": [],
   "source": [
    "import os\n",
    "from openai import AzureOpenAI\n",
    "\n",
    "openai_client: AzureOpenAI = AzureOpenAI(\n",
    "    api_version = \"2024-06-01\",\n",
    "    max_retries=5\n",
    ")"
   ]
  },
  {
   "cell_type": "code",
   "execution_count": 9,
   "metadata": {},
   "outputs": [
    {
     "data": {
      "text/plain": [
       "ChatCompletion(id='chatcmpl-A49c2S2O6vy7mzjP9tGLTCOYUrVSc', choices=[Choice(finish_reason='stop', index=0, logprobs=None, message=ChatCompletionMessage(content='The concept of the Trinity—God being one essence in three persons: the Father, the Son (Jesus Christ), and the Holy Spirit—is not explicitly named in the Bible, but many Christians believe it is supported by various scriptures. Here are a few verses often cited in relation to the concept of the Trinity:\\n\\n1. **Matthew 28:19** - \"Go therefore and make disciples of all nations, baptizing them in the name of the Father and of the Son and of the Holy Spirit.\"\\n  \\n2. **2 Corinthians 13:14** - \"The grace of the Lord Jesus Christ, the love of God, and the fellowship of the Holy Spirit be with you all.\"\\n\\n3. **John 1:1-14** - \"In the beginning was the Word, and the Word was with God, and the Word was God... And the Word became flesh and dwelt among us.\"\\n\\n4. **John 14:16-17** - \"And I will ask the Father, and he will give you another Helper, to be with you forever, even the Spirit of truth.\"\\n\\nThese scriptures, among others, are used to support the understanding of the Trinity in Christian theology. Different Christian denominations may interpret these concepts in various ways, but the essence of the Trinity is a foundational belief for many.', refusal=None, role='assistant', function_call=None, tool_calls=None), content_filter_results={'hate': {'filtered': False, 'severity': 'safe'}, 'protected_material_code': {'filtered': False, 'detected': False}, 'protected_material_text': {'filtered': False, 'detected': False}, 'self_harm': {'filtered': False, 'severity': 'safe'}, 'sexual': {'filtered': False, 'severity': 'safe'}, 'violence': {'filtered': False, 'severity': 'safe'}})], created=1725553626, model='gpt-4o-mini', object='chat.completion', service_tier=None, system_fingerprint='fp_80a1bad4c7', usage=CompletionUsage(completion_tokens=266, prompt_tokens=34, total_tokens=300), prompt_filter_results=[{'prompt_index': 0, 'content_filter_results': {'hate': {'filtered': False, 'severity': 'safe'}, 'jailbreak': {'filtered': False, 'detected': False}, 'self_harm': {'filtered': False, 'severity': 'safe'}, 'sexual': {'filtered': False, 'severity': 'safe'}, 'violence': {'filtered': False, 'severity': 'safe'}}}])"
      ]
     },
     "execution_count": 9,
     "metadata": {},
     "output_type": "execute_result"
    }
   ],
   "source": [
    "completion = openai_client.chat.completions.create(\n",
    "    model=\"gpt-4o-mini\",\n",
    "    messages=[\n",
    "        {\n",
    "            \"role\":\"system\",\n",
    "            \"content\": \"You are a friendly AI assistant returning biblical scriptures based on the query of the user\"\n",
    "        },\n",
    "        {\n",
    "            \"role\":\"user\",\n",
    "            \"content\": \"Is trinity a biblical thing?\"\n",
    "        }\n",
    "    ]\n",
    ")\n",
    "completion"
   ]
  },
  {
   "cell_type": "code",
   "execution_count": 4,
   "metadata": {},
   "outputs": [
    {
     "name": "stdout",
     "output_type": "stream",
     "text": [
      "The term \"Trinity\" is not explicitly mentioned in the Bible, but the concept is derived from various scriptural passages that highlight the nature of God as a three-in-one being: Father, Son, and Holy Spirit. \n",
      "\n",
      "Here are a few key verses that are often cited in relation to the Trinity:\n",
      "\n",
      "1. **Matthew 28:19** - “Go therefore and make disciples of all nations, baptizing them in the name of the Father and of the Son and of the Holy Spirit.”\n",
      "  \n",
      "2. **2 Corinthians 13:14** - “The grace of the Lord Jesus Christ, the love of God, and the fellowship of the Holy Spirit be with you all.”\n",
      "\n",
      "3. **John 14:16-17** - “And I will ask the Father, and he will give you another Helper, to be with you forever, even the Spirit of truth…”\n",
      "\n",
      "4. **Colossians 2:9** - “For in him [Christ] the whole fullness of deity dwells bodily…”\n",
      "\n",
      "These scriptures point to the distinct persons of the Father, Son, and Holy Spirit, while affirming their unity in the Godhead. The formal doctrine of the Trinity was developed in the early church to articulate this biblical understanding of God’s nature.\n"
     ]
    }
   ],
   "source": [
    "print(completion.choices[0].message.content)"
   ]
  },
  {
   "cell_type": "code",
   "execution_count": 5,
   "metadata": {},
   "outputs": [
    {
     "name": "stdout",
     "output_type": "stream",
     "text": [
      "CompletionUsage(completion_tokens=256, prompt_tokens=34, total_tokens=290)\n"
     ]
    }
   ],
   "source": [
    "print(completion.usage)"
   ]
  },
  {
   "cell_type": "code",
   "execution_count": null,
   "metadata": {},
   "outputs": [],
   "source": []
  }
 ],
 "metadata": {
  "kernelspec": {
   "display_name": "Python 3",
   "language": "python",
   "name": "python3"
  },
  "language_info": {
   "codemirror_mode": {
    "name": "ipython",
    "version": 3
   },
   "file_extension": ".py",
   "mimetype": "text/x-python",
   "name": "python",
   "nbconvert_exporter": "python",
   "pygments_lexer": "ipython3",
   "version": "3.12.1"
  }
 },
 "nbformat": 4,
 "nbformat_minor": 2
}
